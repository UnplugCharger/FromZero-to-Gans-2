{
  "nbformat": 4,
  "nbformat_minor": 0,
  "metadata": {
    "colab": {
      "name": "Zero to Gans 2",
      "provenance": [],
      "collapsed_sections": [],
      "mount_file_id": "1zwfg6nM5Nj6M9UTRELuzB_unzEpqkuYP",
      "authorship_tag": "ABX9TyObVMNBqajLOX0M9/jL09ib",
      "include_colab_link": true
    },
    "kernelspec": {
      "name": "python3",
      "display_name": "Python 3"
    },
    "accelerator": "GPU"
  },
  "cells": [
    {
      "cell_type": "markdown",
      "metadata": {
        "id": "view-in-github",
        "colab_type": "text"
      },
      "source": [
        "<a href=\"https://colab.research.google.com/github/UnplugCharger/FromZero-to-Gans-2/blob/main/Zero_to_Gans_2.ipynb\" target=\"_parent\"><img src=\"https://colab.research.google.com/assets/colab-badge.svg\" alt=\"Open In Colab\"/></a>"
      ]
    },
    {
      "cell_type": "code",
      "metadata": {
        "id": "WTIa6kj6Uk2o"
      },
      "source": [
        "import torch\n",
        "import torchvision\n",
        "from torchvision.datasets import  MNIST"
      ],
      "execution_count": 3,
      "outputs": []
    },
    {
      "cell_type": "code",
      "metadata": {
        "id": "2vdEJoM_X3Ne"
      },
      "source": [
        "dataset= MNIST(root='/content/drive/MyDrive/Hackathon/MNIST',download=True)"
      ],
      "execution_count": 4,
      "outputs": []
    },
    {
      "cell_type": "code",
      "metadata": {
        "colab": {
          "base_uri": "https://localhost:8080/"
        },
        "id": "-KE-7ilOY6mW",
        "outputId": "7153d8cf-9fa6-426c-9fe0-abe25a9d991f"
      },
      "source": [
        "len(dataset)"
      ],
      "execution_count": 5,
      "outputs": [
        {
          "output_type": "execute_result",
          "data": {
            "text/plain": [
              "60000"
            ]
          },
          "metadata": {
            "tags": []
          },
          "execution_count": 5
        }
      ]
    },
    {
      "cell_type": "code",
      "metadata": {
        "id": "LPdLjuvFZZ3H"
      },
      "source": [
        "test_dataset=MNIST(root='/content/drive/MyDrive/Hackathon/MNIST',train=False)"
      ],
      "execution_count": 6,
      "outputs": []
    },
    {
      "cell_type": "code",
      "metadata": {
        "colab": {
          "base_uri": "https://localhost:8080/"
        },
        "id": "IUx5yP-qZpBP",
        "outputId": "15704e47-7059-4425-aad0-83b9f71cb6b2"
      },
      "source": [
        "test_dataset"
      ],
      "execution_count": 7,
      "outputs": [
        {
          "output_type": "execute_result",
          "data": {
            "text/plain": [
              "Dataset MNIST\n",
              "    Number of datapoints: 10000\n",
              "    Root location: /content/drive/MyDrive/Hackathon/MNIST\n",
              "    Split: Test"
            ]
          },
          "metadata": {
            "tags": []
          },
          "execution_count": 7
        }
      ]
    },
    {
      "cell_type": "code",
      "metadata": {
        "colab": {
          "base_uri": "https://localhost:8080/"
        },
        "id": "RcecPprcZq-j",
        "outputId": "dbac02e8-0304-4075-9a88-9a5ecf235c60"
      },
      "source": [
        "dataset[0]"
      ],
      "execution_count": 8,
      "outputs": [
        {
          "output_type": "execute_result",
          "data": {
            "text/plain": [
              "(<PIL.Image.Image image mode=L size=28x28 at 0x7F2F93FCA470>, 5)"
            ]
          },
          "metadata": {
            "tags": []
          },
          "execution_count": 8
        }
      ]
    },
    {
      "cell_type": "code",
      "metadata": {
        "id": "Zfc9Msc4ZzKz"
      },
      "source": [
        "import matplotlib.pyplot as plt"
      ],
      "execution_count": 9,
      "outputs": []
    },
    {
      "cell_type": "code",
      "metadata": {
        "colab": {
          "base_uri": "https://localhost:8080/",
          "height": 282
        },
        "id": "flcZMlqDaclC",
        "outputId": "2b3bdbf5-6532-4943-d335-e4d5be915d50"
      },
      "source": [
        "image,label=dataset[100]\n",
        "plt.imshow(image,cmap='gray')\n",
        "print('Label',label)"
      ],
      "execution_count": 10,
      "outputs": [
        {
          "output_type": "stream",
          "text": [
            "Label 5\n"
          ],
          "name": "stdout"
        },
        {
          "output_type": "display_data",
          "data": {
            "image/png": "[encoded data removed]",
            "text/plain": [
              "<Figure size 432x288 with 1 Axes>"
            ]
          },
          "metadata": {
            "tags": [],
            "needs_background": "light"
          }
        }
      ]
    },
    {
      "cell_type": "code",
      "metadata": {
        "id": "wyIHIbzCa4pK"
      },
      "source": [
        "from torchvision import  transforms"
      ],
      "execution_count": 11,
      "outputs": []
    },
    {
      "cell_type": "code",
      "metadata": {
        "id": "7cSxaYLFcCA1"
      },
      "source": [
        "dataset=MNIST(root='/content/drive/MyDrive/Hackathon/MNIST',train=True,transform=transforms.ToTensor())"
      ],
      "execution_count": 12,
      "outputs": []
    },
    {
      "cell_type": "code",
      "metadata": {
        "colab": {
          "base_uri": "https://localhost:8080/"
        },
        "id": "TjGPBEkBcQs1",
        "outputId": "4623ff6f-611a-4b5e-c674-0b42e4ae2782"
      },
      "source": [
        "image_tensor,label= dataset[0]\n",
        "print(image_tensor.shape,label)"
      ],
      "execution_count": 13,
      "outputs": [
        {
          "output_type": "stream",
          "text": [
            "torch.Size([1, 28, 28]) 5\n"
          ],
          "name": "stdout"
        }
      ]
    },
    {
      "cell_type": "code",
      "metadata": {
        "colab": {
          "base_uri": "https://localhost:8080/"
        },
        "id": "O8R5bM3ccY9Y",
        "outputId": "5e31fc98-ecae-4b38-fd7e-dd20872260f8"
      },
      "source": [
        "image_tensor,label= dataset[10]\n",
        "print(image_tensor.shape,label)"
      ],
      "execution_count": 14,
      "outputs": [
        {
          "output_type": "stream",
          "text": [
            "torch.Size([1, 28, 28]) 3\n"
          ],
          "name": "stdout"
        }
      ]
    },
    {
      "cell_type": "code",
      "metadata": {
        "colab": {
          "base_uri": "https://localhost:8080/"
        },
        "id": "jGvcpTkPdEEf",
        "outputId": "d5f06b54-cf15-492b-cc43-bca341289b2f"
      },
      "source": [
        "from torch.utils.data import  random_split\n",
        "train_ds,val_ds=random_split(dataset,[50000,10000])\n",
        "len(train_ds),len(val_ds)"
      ],
      "execution_count": 15,
      "outputs": [
        {
          "output_type": "execute_result",
          "data": {
            "text/plain": [
              "(50000, 10000)"
            ]
          },
          "metadata": {
            "tags": []
          },
          "execution_count": 15
        }
      ]
    },
    {
      "cell_type": "code",
      "metadata": {
        "id": "tcAcGT4fhDjq"
      },
      "source": [
        "from torch.utils.data import  DataLoader\n",
        "batch_size=64\n",
        "train_loader=DataLoader(train_ds,batch_size,shuffle=True)\n",
        "val_loader=DataLoader(val_ds,batch_size)"
      ],
      "execution_count": 16,
      "outputs": []
    },
    {
      "cell_type": "markdown",
      "metadata": {
        "id": "5M2LsO4_jlnk"
      },
      "source": [
        "#MODEL"
      ]
    },
    {
      "cell_type": "code",
      "metadata": {
        "id": "sWZe4-XLh6Nm"
      },
      "source": [
        "import torch.nn as nn\n",
        "input_size=28*28\n",
        "num_classes=10\n",
        "# logistic regression\n",
        "model=nn.Linear(input_size,num_classes)"
      ],
      "execution_count": 17,
      "outputs": []
    },
    {
      "cell_type": "code",
      "metadata": {
        "colab": {
          "base_uri": "https://localhost:8080/"
        },
        "id": "jbhe8ELZkvtj",
        "outputId": "cd22038f-f322-4907-a525-45c8ad5878f5"
      },
      "source": [
        "model"
      ],
      "execution_count": 18,
      "outputs": [
        {
          "output_type": "execute_result",
          "data": {
            "text/plain": [
              "Linear(in_features=784, out_features=10, bias=True)"
            ]
          },
          "metadata": {
            "tags": []
          },
          "execution_count": 18
        }
      ]
    },
    {
      "cell_type": "code",
      "metadata": {
        "id": "mxmlQepmkx6z"
      },
      "source": [
        "class MnistModel(nn.Module):\n",
        "  def __init__(self):\n",
        "    super().__init__()\n",
        "    self.linear=nn.Linear(input_size,num_classes)\n",
        "\n",
        "  def forward(self,xb):\n",
        "    xb=xb.reshape(-1,784)\n",
        "    out=self.linear(xb)\n",
        "    return out \n",
        "\n",
        "\n",
        "model=MnistModel()\n",
        "  "
      ],
      "execution_count": 19,
      "outputs": []
    },
    {
      "cell_type": "code",
      "metadata": {
        "id": "8ByT9b3codgj"
      },
      "source": [
        "for images ,labels in train_loader:\n",
        "  outputs=model(images)\n",
        "  break \n",
        "\n"
      ],
      "execution_count": 20,
      "outputs": []
    },
    {
      "cell_type": "code",
      "metadata": {
        "colab": {
          "base_uri": "https://localhost:8080/"
        },
        "id": "OFWY1hrOquAI",
        "outputId": "8400ec67-4e69-49b4-8433-eb86727e9315"
      },
      "source": [
        "print(outputs.shape)"
      ],
      "execution_count": 21,
      "outputs": [
        {
          "output_type": "stream",
          "text": [
            "torch.Size([64, 10])\n"
          ],
          "name": "stdout"
        }
      ]
    },
    {
      "cell_type": "code",
      "metadata": {
        "colab": {
          "base_uri": "https://localhost:8080/"
        },
        "id": "zEz0CK9Kqz0g",
        "outputId": "908da355-e94f-4763-e614-94de33c5914f"
      },
      "source": [
        "outputs[0]"
      ],
      "execution_count": 22,
      "outputs": [
        {
          "output_type": "execute_result",
          "data": {
            "text/plain": [
              "tensor([ 0.1031, -0.5657, -0.2095, -0.3589, -0.1398,  0.1376, -0.1259,  0.1907,\n",
              "        -0.0414,  0.1717], grad_fn=<SelectBackward>)"
            ]
          },
          "metadata": {
            "tags": []
          },
          "execution_count": 22
        }
      ]
    },
    {
      "cell_type": "code",
      "metadata": {
        "colab": {
          "base_uri": "https://localhost:8080/"
        },
        "id": "xZr0UbRWsgwW",
        "outputId": "7b9dbd73-a8a2-4647-8387-cbc8aea56fe6"
      },
      "source": [
        "torch.exp(outputs[0])"
      ],
      "execution_count": 23,
      "outputs": [
        {
          "output_type": "execute_result",
          "data": {
            "text/plain": [
              "tensor([1.1086, 0.5680, 0.8110, 0.6984, 0.8696, 1.1476, 0.8817, 1.2101, 0.9594,\n",
              "        1.1873], grad_fn=<ExpBackward>)"
            ]
          },
          "metadata": {
            "tags": []
          },
          "execution_count": 23
        }
      ]
    },
    {
      "cell_type": "code",
      "metadata": {
        "id": "t2taEr6Nsn5k"
      },
      "source": [
        "exps=torch.exp(outputs[0])"
      ],
      "execution_count": 24,
      "outputs": []
    },
    {
      "cell_type": "code",
      "metadata": {
        "id": "9Bp4aRFetAFW"
      },
      "source": [
        "probs= exps/torch.sum(exps)"
      ],
      "execution_count": 25,
      "outputs": []
    },
    {
      "cell_type": "code",
      "metadata": {
        "colab": {
          "base_uri": "https://localhost:8080/"
        },
        "id": "2CKdBePatHf8",
        "outputId": "7e82d66f-3bb2-4be8-ba14-4331f2730b7c"
      },
      "source": [
        "probs"
      ],
      "execution_count": 26,
      "outputs": [
        {
          "output_type": "execute_result",
          "data": {
            "text/plain": [
              "tensor([0.1174, 0.0602, 0.0859, 0.0740, 0.0921, 0.1215, 0.0934, 0.1282, 0.1016,\n",
              "        0.1258], grad_fn=<DivBackward0>)"
            ]
          },
          "metadata": {
            "tags": []
          },
          "execution_count": 26
        }
      ]
    },
    {
      "cell_type": "code",
      "metadata": {
        "colab": {
          "base_uri": "https://localhost:8080/"
        },
        "id": "B3NBPQ4ntKN5",
        "outputId": "acc5905a-b5ca-4198-aec4-8995d6ec336b"
      },
      "source": [
        "torch.sum(probs)"
      ],
      "execution_count": 27,
      "outputs": [
        {
          "output_type": "execute_result",
          "data": {
            "text/plain": [
              "tensor(1.0000, grad_fn=<SumBackward0>)"
            ]
          },
          "metadata": {
            "tags": []
          },
          "execution_count": 27
        }
      ]
    },
    {
      "cell_type": "code",
      "metadata": {
        "id": "gbNnRJuyyrEn"
      },
      "source": [
        "## applyingsoftmax to eaach row\n",
        "\n",
        "import torch.nn.functional as F"
      ],
      "execution_count": 29,
      "outputs": []
    },
    {
      "cell_type": "code",
      "metadata": {
        "id": "iTz-fVy0zKrh"
      },
      "source": [
        "probs=F.softmax(outputs,dim=1)"
      ],
      "execution_count": 30,
      "outputs": []
    },
    {
      "cell_type": "code",
      "metadata": {
        "colab": {
          "base_uri": "https://localhost:8080/"
        },
        "id": "jvdou3TKz61R",
        "outputId": "e8f67b72-30a4-4e07-c005-b42e0fcf3926"
      },
      "source": [
        "max_probs,preds=torch.max(probs,dim=1)\n",
        "print(preds)\n",
        "print(max_probs)"
      ],
      "execution_count": 33,
      "outputs": [
        {
          "output_type": "stream",
          "text": [
            "tensor([7, 6, 2, 5, 7, 5, 7, 7, 5, 5, 4, 7, 7, 5, 5, 5, 2, 5, 5, 5, 5, 0, 5, 2,\n",
            "        0, 5, 5, 6, 6, 0, 5, 5, 5, 4, 7, 5, 5, 5, 5, 5, 7, 5, 5, 9, 6, 5, 5, 5,\n",
            "        9, 5, 1, 5, 9, 5, 5, 9, 8, 5, 5, 7, 7, 9, 7, 5])\n",
            "tensor([0.1282, 0.1428, 0.1297, 0.1337, 0.1245, 0.1262, 0.1283, 0.1399, 0.1248,\n",
            "        0.1117, 0.1338, 0.1181, 0.1396, 0.1293, 0.1510, 0.1375, 0.1221, 0.1240,\n",
            "        0.1588, 0.1259, 0.1300, 0.1121, 0.1335, 0.1236, 0.1321, 0.1400, 0.1469,\n",
            "        0.1515, 0.1328, 0.1304, 0.1418, 0.1167, 0.1297, 0.1189, 0.1231, 0.1643,\n",
            "        0.1206, 0.1358, 0.1395, 0.1521, 0.1363, 0.1418, 0.1230, 0.1296, 0.1281,\n",
            "        0.1499, 0.1262, 0.1146, 0.1384, 0.1398, 0.1194, 0.1330, 0.1445, 0.1450,\n",
            "        0.1289, 0.1564, 0.1194, 0.1196, 0.1485, 0.1223, 0.1262, 0.1265, 0.1359,\n",
            "        0.1152], grad_fn=<MaxBackward0>)\n"
          ],
          "name": "stdout"
        }
      ]
    },
    {
      "cell_type": "code",
      "metadata": {
        "colab": {
          "base_uri": "https://localhost:8080/"
        },
        "id": "D6o-tZ4f0EIE",
        "outputId": "d9479338-14be-4eb0-a860-eb7da7964fcd"
      },
      "source": [
        "labels"
      ],
      "execution_count": 34,
      "outputs": [
        {
          "output_type": "execute_result",
          "data": {
            "text/plain": [
              "tensor([0, 2, 6, 4, 3, 7, 4, 6, 5, 1, 1, 5, 8, 5, 5, 2, 2, 8, 5, 4, 8, 8, 5, 6,\n",
              "        3, 8, 5, 2, 4, 0, 6, 4, 5, 4, 8, 3, 3, 2, 9, 0, 4, 0, 8, 7, 4, 2, 8, 4,\n",
              "        7, 0, 1, 0, 5, 8, 3, 4, 9, 9, 7, 4, 7, 6, 5, 5])"
            ]
          },
          "metadata": {
            "tags": []
          },
          "execution_count": 34
        }
      ]
    },
    {
      "cell_type": "code",
      "metadata": {
        "id": "6KS5YsuO1Xwd"
      },
      "source": [
        "def accuracy(outputs,labels):\n",
        "  _,preds=torch.max(outputs,dim=1)\n",
        "  return torch.tensor(torch.sum(preds==labels).item()/len(preds))\n"
      ],
      "execution_count": 35,
      "outputs": []
    },
    {
      "cell_type": "code",
      "metadata": {
        "colab": {
          "base_uri": "https://localhost:8080/"
        },
        "id": "LYuTrhqV2r7H",
        "outputId": "19eea2d2-2f96-4142-8465-dc97e9a473ef"
      },
      "source": [
        "accuracy(outputs,labels)"
      ],
      "execution_count": 36,
      "outputs": [
        {
          "output_type": "execute_result",
          "data": {
            "text/plain": [
              "tensor(0.2031)"
            ]
          },
          "metadata": {
            "tags": []
          },
          "execution_count": 36
        }
      ]
    },
    {
      "cell_type": "code",
      "metadata": {
        "id": "QXgh_aq22yIj"
      },
      "source": [
        "loss_fn=F.cross_entropy"
      ],
      "execution_count": 37,
      "outputs": []
    },
    {
      "cell_type": "code",
      "metadata": {
        "colab": {
          "base_uri": "https://localhost:8080/"
        },
        "id": "KdGB2Olb59Yi",
        "outputId": "5bfd9f6e-0d12-4e66-c80f-ad0e32074739"
      },
      "source": [
        "loss=loss_fn(outputs,labels)\n",
        "loss"
      ],
      "execution_count": 39,
      "outputs": [
        {
          "output_type": "execute_result",
          "data": {
            "text/plain": [
              "tensor(2.2635, grad_fn=<NllLossBackward>)"
            ]
          },
          "metadata": {
            "tags": []
          },
          "execution_count": 39
        }
      ]
    },
    {
      "cell_type": "markdown",
      "metadata": {
        "id": "ohM_7i4t6SnA"
      },
      "source": [
        "# Trainning the Model"
      ]
    },
    {
      "cell_type": "code",
      "metadata": {
        "id": "z39qz6Nk6B7s"
      },
      "source": [
        "class MnistModel(nn.Module):\n",
        "  def __init__(self):\n",
        "    super().__init__()\n",
        "    self.linear=nn.Linear(input_size,num_classes)\n",
        "\n",
        "  def forward(self,xb):\n",
        "    xb=xb.reshape(-1,784)\n",
        "    out=self.linear(xb)\n",
        "    return out \n",
        "\n",
        "  def training_step(self,batch):\n",
        "    images,labels=batch\n",
        "    out=self(images)\n",
        "    loss=F.cross_entropy(out,labels)\n",
        "    return loss\n",
        "  def validation_step(self,batch):\n",
        "    images,labels= batch\n",
        "    out=self(images)\n",
        "    loss=F.cross_entropy(out,labels)\n",
        "    acc= accuracy(out,labels)\n",
        "    return {'val_loss':loss, 'val_acc':acc}\n",
        "  \n",
        "  def validation_epoch_end(self,outputs):\n",
        "    batch_losses=[x['val_loss'] for x in outputs]\n",
        "    epoch_loss= torch.stack(batch_losses).mean()\n",
        "    batch_acc=[x['val_acc'] for x in outputs]\n",
        "    epoch_acc= torch.stack(batch_acc).mean()\n",
        "    return {'val_loss':epoch_loss.item(), 'val_acc':epoch_acc.item()}\n",
        "\n",
        "  def epoch_end(self, epoch, result):\n",
        "        print(\"Epoch [{}], val_loss: {:.4f}, val_acc: {:.4f}\".format(epoch, result['val_loss'], result['val_acc']))\n",
        "    \n",
        "model = MnistModel()"
      ],
      "execution_count": 47,
      "outputs": []
    },
    {
      "cell_type": "code",
      "metadata": {
        "id": "WxeAQFT1BBJJ"
      },
      "source": [
        "def evaluate(model, val_loader):\n",
        "    outputs = [model.validation_step(batch) for batch in val_loader]\n",
        "    return model.validation_epoch_end(outputs)\n",
        "\n",
        "def fit(epochs, lr, model, train_loader, val_loader, opt_func=torch.optim.SGD):\n",
        "    history = []\n",
        "    optimizer = opt_func(model.parameters(), lr)\n",
        "    for epoch in range(epochs):\n",
        "        # Training Phase \n",
        "        for batch in train_loader:\n",
        "            loss = model.training_step(batch)\n",
        "            loss.backward()\n",
        "            optimizer.step()\n",
        "            optimizer.zero_grad()\n",
        "        # Validation phase\n",
        "        result = evaluate(model, val_loader)\n",
        "        model.epoch_end(epoch, result)\n",
        "        history.append(result)\n",
        "    return history"
      ],
      "execution_count": 42,
      "outputs": []
    },
    {
      "cell_type": "code",
      "metadata": {
        "colab": {
          "base_uri": "https://localhost:8080/"
        },
        "id": "7xlEYS2zOVkZ",
        "outputId": "352dca22-f6d8-407e-9e87-dd3120e89de8"
      },
      "source": [
        "result0 = evaluate(model, val_loader)\n",
        "result0"
      ],
      "execution_count": 45,
      "outputs": [
        {
          "output_type": "execute_result",
          "data": {
            "text/plain": [
              "{'val_acc': 0.1176353469491005, 'val_loss': 2.3076541423797607}"
            ]
          },
          "metadata": {
            "tags": []
          },
          "execution_count": 45
        }
      ]
    },
    {
      "cell_type": "code",
      "metadata": {
        "colab": {
          "base_uri": "https://localhost:8080/"
        },
        "id": "We8iJFkhOhNv",
        "outputId": "49d79d54-c560-46ee-fc81-e25bce7cf323"
      },
      "source": [
        "history1 = fit(50, 0.001, model, train_loader, val_loader)"
      ],
      "execution_count": 48,
      "outputs": [
        {
          "output_type": "stream",
          "text": [
            "Epoch [0], val_loss: 1.6873, val_acc: 0.7343\n",
            "Epoch [1], val_loss: 1.3280, val_acc: 0.7912\n",
            "Epoch [2], val_loss: 1.1168, val_acc: 0.8128\n",
            "Epoch [3], val_loss: 0.9814, val_acc: 0.8271\n",
            "Epoch [4], val_loss: 0.8883, val_acc: 0.8343\n",
            "Epoch [5], val_loss: 0.8204, val_acc: 0.8421\n",
            "Epoch [6], val_loss: 0.7686, val_acc: 0.8464\n",
            "Epoch [7], val_loss: 0.7276, val_acc: 0.8508\n",
            "Epoch [8], val_loss: 0.6942, val_acc: 0.8537\n",
            "Epoch [9], val_loss: 0.6665, val_acc: 0.8568\n",
            "Epoch [10], val_loss: 0.6430, val_acc: 0.8586\n",
            "Epoch [11], val_loss: 0.6227, val_acc: 0.8612\n",
            "Epoch [12], val_loss: 0.6053, val_acc: 0.8632\n",
            "Epoch [13], val_loss: 0.5899, val_acc: 0.8651\n",
            "Epoch [14], val_loss: 0.5761, val_acc: 0.8663\n",
            "Epoch [15], val_loss: 0.5639, val_acc: 0.8678\n",
            "Epoch [16], val_loss: 0.5529, val_acc: 0.8683\n",
            "Epoch [17], val_loss: 0.5429, val_acc: 0.8698\n",
            "Epoch [18], val_loss: 0.5337, val_acc: 0.8706\n",
            "Epoch [19], val_loss: 0.5254, val_acc: 0.8718\n",
            "Epoch [20], val_loss: 0.5176, val_acc: 0.8736\n",
            "Epoch [21], val_loss: 0.5106, val_acc: 0.8744\n",
            "Epoch [22], val_loss: 0.5040, val_acc: 0.8755\n",
            "Epoch [23], val_loss: 0.4978, val_acc: 0.8761\n",
            "Epoch [24], val_loss: 0.4921, val_acc: 0.8769\n",
            "Epoch [25], val_loss: 0.4868, val_acc: 0.8774\n",
            "Epoch [26], val_loss: 0.4817, val_acc: 0.8792\n",
            "Epoch [27], val_loss: 0.4769, val_acc: 0.8798\n",
            "Epoch [28], val_loss: 0.4724, val_acc: 0.8806\n",
            "Epoch [29], val_loss: 0.4683, val_acc: 0.8811\n",
            "Epoch [30], val_loss: 0.4642, val_acc: 0.8823\n",
            "Epoch [31], val_loss: 0.4604, val_acc: 0.8832\n",
            "Epoch [32], val_loss: 0.4568, val_acc: 0.8837\n",
            "Epoch [33], val_loss: 0.4534, val_acc: 0.8841\n",
            "Epoch [34], val_loss: 0.4501, val_acc: 0.8844\n",
            "Epoch [35], val_loss: 0.4471, val_acc: 0.8853\n",
            "Epoch [36], val_loss: 0.4440, val_acc: 0.8855\n",
            "Epoch [37], val_loss: 0.4411, val_acc: 0.8861\n",
            "Epoch [38], val_loss: 0.4384, val_acc: 0.8863\n",
            "Epoch [39], val_loss: 0.4358, val_acc: 0.8868\n",
            "Epoch [40], val_loss: 0.4333, val_acc: 0.8873\n",
            "Epoch [41], val_loss: 0.4308, val_acc: 0.8872\n",
            "Epoch [42], val_loss: 0.4284, val_acc: 0.8874\n",
            "Epoch [43], val_loss: 0.4262, val_acc: 0.8880\n",
            "Epoch [44], val_loss: 0.4240, val_acc: 0.8884\n",
            "Epoch [45], val_loss: 0.4219, val_acc: 0.8890\n",
            "Epoch [46], val_loss: 0.4199, val_acc: 0.8893\n",
            "Epoch [47], val_loss: 0.4180, val_acc: 0.8898\n",
            "Epoch [48], val_loss: 0.4161, val_acc: 0.8899\n",
            "Epoch [49], val_loss: 0.4142, val_acc: 0.8901\n"
          ],
          "name": "stdout"
        }
      ]
    },
    {
      "cell_type": "code",
      "metadata": {
        "id": "Msx3OIf_P1b0"
      },
      "source": [
        ""
      ],
      "execution_count": null,
      "outputs": []
    }
  ]
}